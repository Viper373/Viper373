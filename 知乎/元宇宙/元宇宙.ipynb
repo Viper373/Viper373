{
 "cells": [
  {
   "cell_type": "code",
   "execution_count": 1,
   "outputs": [],
   "source": [
    "import requests\n",
    "import json\n",
    "import csv"
   ],
   "metadata": {
    "collapsed": false,
    "pycharm": {
     "name": "#%%\n"
    }
   }
  },
  {
   "cell_type": "code",
   "execution_count": 2,
   "outputs": [],
   "source": [
    "headers = {'User-Agent': 'Mozilla/5.0 (Windows NT 10.0; Win64; x64) AppleWebKit/537.36 (KHTML, like Gecko) Chrome/106.0.0.0 Safari/537.36 Edg/106.0.1370.34',\n",
    "           'Cookie': '__snaker__id=LAUR76sa2aBnd9rg; SESSIONID=3qZUgElngb0eBKbjJXDIuNKe1FMMFAd9dscAzBMHskh; JOID=W1wSBEJ_DjQ6ZJd1ZXEz4o0LxwB-US4XF0e5VUZcIBQZSbRbRabjcldpmXZrH0C7shdy0FNkdIrz8oDbL5xR4ek=; osd=UF8UC0x0DTI1apx2Y3496Y4NyA51UigYGUy6U0lSKxcfRrpQRqDsfFxqn3llFEO9vRl501VreoHw9I_VJJ9X7uc=; _zap=ac8c6083-0a1c-4dce-8ced-3f87edb89c3b; d_c0=AABTMV9eeBWPTu84a5kai5imfWpxSdhynQY=|1661635055; _9755xjdesxxd_=32; YD00517437729195%3AWM_TID=5Y46zYNdubBBUAAEFEORW0GjIfdO5fS5; YD00517437729195%3AWM_NI=SQFuMDML%2BM383w0rXpqQOkx4uyc4svebY7CXfIXV4a5ix1dwLlOg9eb7uWqPGO2VNuxmZveg8VI2dIZtx6QDzVamOujon%2B9L72YDIovchKS5PzfHp0XV8yl8DNs%2ByAkNVWg%3D; YD00517437729195%3AWM_NIKE=9ca17ae2e6ffcda170e2e6ee92eb4a8ab4ba85ec5db49e8eb3d14e869e9e87d150af86bca8aa599c8ebccce62af0fea7c3b92a918f8a96d0508f94e5aeb234f1a90093db7cb38f818cfb40b7a7add5f27ea7be97d8c254a69798b7b76bf7b7b8d2e77d90b48188bc6fa2e9bbb8f45c8591feb7cd7fbcb39697e86dfc8a87d3e7439aacb8d7d450ba8aaf8ece7faab1a2ccbc48f5ee97a5cc65b6bda8acd23f94a6aaa9f33c9c8af89aef348892bdccfc4ba9929ab8e637e2a3; gdxidpyhxdE=x%5CZ6XQ4M1E6RHe9eMwYnr8QwOfg4ig%2Bm4aLVT%2FvlMh5co%2BE%2FYqqeDZOdqI4rY7%2BgiqKJu4m6z%5CbmRi87R8aQ0kUN5%2FM%2BoQ1JhPlBChKB776VkCIGs9YbwObb0qNREaO04K9dYBYcpqaJuBLyWwAuwIpcv%5C3b7U8Aym2%2FxXo1m%2BH0obZZ%3A1663604289177; captcha_session_v2=2|1:0|10:1663748495|18:captcha_session_v2|88:REhjRUF6ZndTUU5lczV1VW8xem1zZWxBangyd1QwenJic2xaYXFyWlhPQUxsQzFkRFZ4Y0Q2SnZxekpmZmcvaA==|3496baed47c5e094b01c01d76e86272f17360f20e551334b3f9742c46d864706; captcha_ticket_v2=2|1:0|10:1663748501|17:captcha_ticket_v2|704:eyJ2YWxpZGF0ZSI6IkNOMzFfcFlIZWpVdm9PMVJaLkU1Yl9sTUZBWEdBS1JOLS54dHktSmRlbV9PZVpkOGI1aXJyZGhiRXpndmlQZ0VHcmdLQ1pZcEtxdFY3MmJuYnJOSGFucWNFRHVTQmRzOXpFajdzbURBdVFzS3YwMWxvZ281RFJwbU5ORFF6OENUVzhJR3NROWlNeEN3UC43bjVNS0NDY3VFTDFOY3V2alZtZ2VlcWNpRmJpWDRWX2tvZ2ZQYUp4dE1fbFlHWi1IVjcxWVY5cVh4WVVDeG43YzA0TW00dUI5bzkuUUtqVm1LZURTLTBINWRqQnJFT1JrZVZJbUNmLURET05vVXJ0OW5ZVHNVeXpZZFpiSkp4NE5xSHpHcXpSbmtkMHZGRWtVRklvUHlva3B6dXRpR1JhblpIaEkwU0guak1FRGFhbnBSNllVdHEuLnhodjd4SEdjVWhLX0hhUFBhd2hXY09nX1RKanMxMWJXYU9tOWl6Zi5mZklRUzVQSjB3N0tyNmNmdWxlaFVSLUV4SUowU24wcXVVdHNocnFOdDVqR3FiRmVvaHlCRHhPZHhZXzcweHFIY1N4MWlGN1h3TjkxZWdwMXBnejA5OE9mcUZRbHF5Q3FjZC1nWW1DeGlzOHEua1BRME1yb3BzZE5ZMXFQUVdoYllSLWp2QzdmRjl5d0l4ZGttMyJ9|559159708a7f81854d18a28be66c7e9ae4217b6a04217ced49697f40516c2d11; z_c0=2|1:0|10:1663748527|4:z_c0|92:Mi4xRVM0b0x3QUFBQUFBQUZNeFgxNTRGU1lBQUFCZ0FsVk5yeGNZWkFEbFVuZDBFVnNQdHdmRmd2VTk5ZS1ScVJ2aTZB|8444b9409e4fc4d2d5d3b186d6ca1b7bbc98a8e58b4173342a316887136884ab; tst=r; _xsrf=4e4785be-756c-411a-8f78-3fd4a1439647; Hm_lvt_98beee57fd2ef70ccdd5ca52b9740c49=1664680652,1664804249,1665041191,1665724118; Hm_lpvt_98beee57fd2ef70ccdd5ca52b9740c49=1665724118; KLBRSID=0a401b23e8a71b70de2f4b37f5b4e379|1665724118|1665724117; NOT_UNREGISTER_WAITING=1'}"
   ],
   "metadata": {
    "collapsed": false,
    "pycharm": {
     "name": "#%%\n"
    }
   }
  },
  {
   "cell_type": "code",
   "execution_count": 35,
   "outputs": [],
   "source": [
    "count = 0\n",
    "url = \"https://www.zhihu.com/api/v4/comment_v5/articles/396134310/root_comment?order_by=score&limit=20&offset=\"  # API中评论的第一页\n",
    "while True:\n",
    "    res = requests.get(url, headers=headers).content.decode('utf-8')  # 访问获取\n",
    "    jsonfile = json.loads(res)  # 解析\n",
    "    data = jsonfile.get('data')\n",
    "    paging = jsonfile.get('paging')\n",
    "    nextjd = paging.get('is_end')\n",
    "    nexturl = paging.get('next')\n",
    "    url = nexturl\n",
    "    f = open('zhihu.csv', encoding='utf-8-sig', mode='a', newline='')\n",
    "    csv_write = csv.writer(f)\n",
    "    for i in data:\n",
    "        cid = i['id']  # 评论id\n",
    "        ctime = i['created_time']  # 评论时间戳\n",
    "        content = i['content']  # 评论内容\n",
    "        cname = i['author']['name']  # 评论用户名\n",
    "        cccount = i['child_comment_count']  # 评论回复数量  若为0 则不进行评论回复的爬取\n",
    "        csize = len(i['child_comments'])\n",
    "        csv_write.writerow([cid, ctime, content, cname])\n",
    "        if cccount != 0:\n",
    "            for j in range(0, csize):\n",
    "                ccid = i['child_comments'][j].get('id')  # 评论回复id\n",
    "                cctime = i['child_comments'][j].get('created_time')  #评论回复时间戳\n",
    "                ccontent = i['child_comments'][j].get('content')  # 评论回复内容\n",
    "                ccname = i['child_comments'][j].get('author').get('name')  # 评论回复用户名\n",
    "                csv_write.writerow([ccid, cctime, ccontent, ccname])\n",
    "    f.close()\n",
    "    if nextjd:\n",
    "        break"
   ],
   "metadata": {
    "collapsed": false,
    "pycharm": {
     "name": "#%%\n"
    }
   }
  }
 ],
 "metadata": {
  "kernelspec": {
   "display_name": "Python 3",
   "language": "python",
   "name": "python3"
  },
  "language_info": {
   "codemirror_mode": {
    "name": "ipython",
    "version": 2
   },
   "file_extension": ".py",
   "mimetype": "text/x-python",
   "name": "python",
   "nbconvert_exporter": "python",
   "pygments_lexer": "ipython2",
   "version": "2.7.6"
  }
 },
 "nbformat": 4,
 "nbformat_minor": 0
}
